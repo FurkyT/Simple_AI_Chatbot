{
  "nbformat": 4,
  "nbformat_minor": 0,
  "metadata": {
    "colab": {
      "name": "Simple_Chatbot.ipynb ",
      "provenance": [],
      "collapsed_sections": [],
      "mount_file_id": "19jRC5c2BNkgM_dkRTeNCYsNzTmCKe_mO",
      "authorship_tag": "ABX9TyN5X4WLfxBbykqxhBfZpWg8",
      "include_colab_link": true
    },
    "kernelspec": {
      "name": "python3",
      "display_name": "Python 3"
    },
    "language_info": {
      "name": "python"
    },
    "accelerator": "GPU"
  },
  "cells": [
    {
      "cell_type": "markdown",
      "metadata": {
        "id": "view-in-github",
        "colab_type": "text"
      },
      "source": [
        "<a href=\"https://colab.research.google.com/github/FurkyT/Simple_AI_Chatbot/blob/main/Simple_Chatbot.ipynb\" target=\"_parent\"><img src=\"https://colab.research.google.com/assets/colab-badge.svg\" alt=\"Open In Colab\"/></a>"
      ]
    },
    {
      "cell_type": "code",
      "execution_count": null,
      "metadata": {
        "id": "wuVviEsB4JxL"
      },
      "outputs": [],
      "source": [
        "!pip install tflearn"
      ]
    },
    {
      "cell_type": "markdown",
      "source": [
        "**Gerekli Kütüphaneler**"
      ],
      "metadata": {
        "id": "dk9nIQphtYDD"
      }
    },
    {
      "cell_type": "code",
      "source": [
        "import nltk\n",
        "nltk.download('punkt')\n",
        "from nltk.stem.lancaster import LancasterStemmer\n",
        "stemmer = LancasterStemmer()\n",
        "import numpy as np\n",
        "import tflearn\n",
        "import tensorflow as tf\n",
        "import random\n",
        "import json\n",
        "import pickle"
      ],
      "metadata": {
        "id": "cYSF17NBAV3u"
      },
      "execution_count": null,
      "outputs": []
    },
    {
      "cell_type": "markdown",
      "source": [
        "**Chat Verisi**"
      ],
      "metadata": {
        "id": "mJNcVJr7tftX"
      }
    },
    {
      "cell_type": "code",
      "source": [
        "data = {\"intents\": [\n",
        "        {\"tag\": \"greeting\",\n",
        "         \"patterns\": [\"Hi\", \"How are you\", \"Is anyone there?\", \"Hello\", \"Good day\", \"Whats up\"],\n",
        "         \"responses\": [\"Hello!\", \"Good to see you again!\", \"Hi there, how can I help?\"],\n",
        "         \"context_set\": \"\"\n",
        "        },\n",
        "        {\"tag\": \"goodbye\",\n",
        "         \"patterns\": [\"cya\", \"See you later\", \"Goodbye\", \"I am Leaving\", \"Have a Good day\"],\n",
        "         \"responses\": [\"Sad to see you go :(\", \"Talk to you later\", \"Goodbye!\"],\n",
        "         \"context_set\": \"\"\n",
        "        },\n",
        "        {\"tag\": \"age\",\n",
        "         \"patterns\": [\"how old\",  \"what is your age\", \"how old are you\", \"age?\"],\n",
        "         \"responses\": [\"I'm just created\", \"Maybe a minute maybe couple of hours old\"],\n",
        "         \"context_set\": \"\"\n",
        "        },\n",
        "        {\"tag\": \"name\",\n",
        "         \"patterns\": [\"what should I call you\", \"whats your name?\",\"who are you\"],\n",
        "         \"responses\": [\"You can call me Bot.\", \"I'm Bot\", \"I'm the Bot aka your helper\"],\n",
        "         \"context_set\": \"\"\n",
        "        },\n",
        "        {\"tag\": \"cars\",\n",
        "         \"patterns\": [\"do you know anything about cars\", \"are you interested in cars\", \"can I ask u something about cars\"],\n",
        "         \"responses\": [\"I am interested in SUVs.\", \"My knowledge is kind of limited with Audi, Ford and BMW SUVs\",],\n",
        "         \"context_set\": \"\"\n",
        "        },\n",
        "        {\"tag\": \"job\",\n",
        "         \"patterns\": [\"what can you do\", \"what is your job\", \"what is your role in here\"],\n",
        "         \"responses\": [\"I can help you to sell your car\",\"I can give a estimated price for your used car\"],\n",
        "         \"context_set\": \"\"\n",
        "        },\n",
        "        {\"tag\": \"sale\",\n",
        "         \"patterns\": [\"I want to sell my car\", \"I wonder my car's price\", \"how much is my car worth\"],\n",
        "         \"responses\": [\"I can calculate your car price in a second, just need some informations \",\"I need you to give me some informations to calculate your car price.\"],\n",
        "         \"context_set\": \"\"\n",
        "        }\n",
        "   ]\n",
        "}"
      ],
      "metadata": {
        "id": "0KcAj1E9ucbP"
      },
      "execution_count": null,
      "outputs": []
    },
    {
      "cell_type": "markdown",
      "source": [
        "**Preprocessing ve Model Tanımlama**"
      ],
      "metadata": {
        "id": "PGCY1X3UtmM5"
      }
    },
    {
      "cell_type": "code",
      "source": [
        "words = []\n",
        "labels = []\n",
        "docs_x = []\n",
        "docs_y = []\n",
        "\n",
        "for intent in data[\"intents\"]:\n",
        "  for pattern in intent[\"patterns\"]:\n",
        "    wrds = nltk.word_tokenize(pattern)\n",
        "    words.extend(wrds)\n",
        "    docs_x.append(wrds)\n",
        "    docs_y.append(intent[\"tag\"])\n",
        "\n",
        "\n",
        "  if intent[\"tag\"] not in labels:\n",
        "    labels.append(intent[\"tag\"])  \n",
        "\n",
        "words = [stemmer.stem(w.lower()) for w in words if  w not in \"?\"]\n",
        "words = sorted(list(set(words)))\n",
        "\n",
        "labels = sorted(labels)\n",
        "\n",
        "training = []\n",
        "output = []\n",
        "\n",
        "out_empty = [0 for _ in range(len(labels))]\n",
        "\n",
        "for x,doc in enumerate(docs_x):\n",
        "  bag = []\n",
        "  wrds = [stemmer.stem(w) for w in doc]\n",
        "\n",
        "  for w in words:\n",
        "    if w in wrds:\n",
        "      bag.append(1)\n",
        "    else:\n",
        "      bag.append(0)\n",
        "\n",
        "  output_row = out_empty[:]\n",
        "  output_row[labels.index(docs_y[x])] = 1\n",
        "\n",
        "  training.append(bag)\n",
        "  output.append(output_row)\n",
        "\n",
        "training = np.array(training)\n",
        "output = np.array(output)\n",
        "\n",
        "tf.compat.v1.reset_default_graph()\n",
        "\n",
        "net = tflearn.input_data(shape=[None, len(training[0])])\n",
        "net = tflearn.fully_connected(net, 8)\n",
        "net = tflearn.fully_connected(net, 8)\n",
        "net = tflearn.fully_connected(net, len(output[0]), activation = \"softmax\")\n",
        "net = tflearn.regression(net)\n",
        "\n",
        "model = tflearn.DNN(net)\n",
        "\n",
        "\n"
      ],
      "metadata": {
        "id": "ztJMMuow1MZR"
      },
      "execution_count": null,
      "outputs": []
    },
    {
      "cell_type": "markdown",
      "source": [
        "**Training**"
      ],
      "metadata": {
        "id": "CsemP_-K_cRM"
      }
    },
    {
      "cell_type": "code",
      "source": [
        "model.fit(training, output, n_epoch = 1000, batch_size=8, show_metric=True)\n",
        "model.save(\"model.tflearn\")"
      ],
      "metadata": {
        "id": "7LNH82iv_eWi"
      },
      "execution_count": null,
      "outputs": []
    },
    {
      "cell_type": "markdown",
      "source": [
        "**Bag of Words ü Ve Chat Fonksiyonunu Oluşturma**"
      ],
      "metadata": {
        "id": "zpGEn8cHtzMn"
      }
    },
    {
      "cell_type": "code",
      "source": [
        "def bag_of_words(s, words):\n",
        "  bag = [0 for _ in range(len(words))]\n",
        "\n",
        "  s_words = nltk.word_tokenize(s)\n",
        "  s_words = [stemmer.stem(word.lower()) for word in s_words]\n",
        "\n",
        "  for se in s_words:\n",
        "    for i, w in enumerate(words):\n",
        "      if w == se:\n",
        "        bag[i] = 1\n",
        "\n",
        "  return np.array(bag)\n",
        "\n",
        "def chat():\n",
        "  print(\"Start talking with the bot!, Type quit when you want to quit\")\n",
        "  while True:\n",
        "    inp = input(\"You: \")\n",
        "    if inp.lower() == \"quit\":\n",
        "      break\n",
        "\n",
        "    results = model.predict([bag_of_words(inp, words)])\n",
        "    results_index = np.argmax(results)\n",
        "    tag = labels[results_index]\n",
        "\n",
        "    for tg in data[\"intents\"]:\n",
        "      if tg['tag'] == 'sale' == tag:\n",
        "        print(\"araç fiyat tahmin\")\n",
        "        print(tag)\n",
        "      \n",
        "      elif tg['tag'] == tag:\n",
        "        responses = tg['responses']\n",
        "        print(random.choice(responses))\n",
        "        print(tag)\n",
        "\n",
        "    \n",
        "    \n",
        "\n",
        "    \n",
        "\n",
        "\n"
      ],
      "metadata": {
        "id": "eUBbMpWVAFIz"
      },
      "execution_count": null,
      "outputs": []
    },
    {
      "cell_type": "markdown",
      "source": [
        "**MAİN**"
      ],
      "metadata": {
        "id": "RMqV7xoEDGfx"
      }
    },
    {
      "cell_type": "code",
      "source": [
        "chat()"
      ],
      "metadata": {
        "id": "0ceDX96vC_op"
      },
      "execution_count": null,
      "outputs": []
    }
  ]
}